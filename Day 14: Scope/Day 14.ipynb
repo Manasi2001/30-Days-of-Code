{
  "nbformat": 4,
  "nbformat_minor": 0,
  "metadata": {
    "colab": {
      "name": "Day 14.ipynb",
      "provenance": []
    },
    "kernelspec": {
      "name": "python3",
      "display_name": "Python 3"
    }
  },
  "cells": [
    {
      "cell_type": "code",
      "metadata": {
        "colab": {
          "base_uri": "https://localhost:8080/"
        },
        "id": "ByQ6UvQx8DWW",
        "outputId": "083558bc-d1ec-49e5-b6ed-7c22a4abceb6"
      },
      "source": [
        "class Difference:\r\n",
        "    def __init__(self, a):\r\n",
        "        self.__elements = a\r\n",
        "    maximumDifference = 0    \r\n",
        "    def computeDifference(self):\r\n",
        "        Difference.maximumDifference = max(self.__elements)-min(self.__elements)\r\n",
        "        return Difference.maximumDifference\r\n",
        "\r\n",
        "# End of Difference class\r\n",
        "\r\n",
        "_ = input()\r\n",
        "a = [int(e) for e in input().split(' ')]\r\n",
        "\r\n",
        "d = Difference(a)\r\n",
        "d.computeDifference()\r\n",
        "\r\n",
        "print(d.maximumDifference)"
      ],
      "execution_count": 2,
      "outputs": [
        {
          "output_type": "stream",
          "text": [
            "3\n",
            "1 2 5\n",
            "4\n"
          ],
          "name": "stdout"
        }
      ]
    }
  ]
}