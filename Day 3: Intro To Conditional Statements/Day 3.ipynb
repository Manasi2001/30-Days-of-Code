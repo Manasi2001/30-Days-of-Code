{
  "nbformat": 4,
  "nbformat_minor": 0,
  "metadata": {
    "colab": {
      "name": "Day 3.ipynb",
      "provenance": []
    },
    "kernelspec": {
      "name": "python3",
      "display_name": "Python 3"
    }
  },
  "cells": [
    {
      "cell_type": "code",
      "metadata": {
        "colab": {
          "base_uri": "https://localhost:8080/"
        },
        "id": "nx3-tke0I1p0",
        "outputId": "5925c1fa-e8d7-48e0-cb0a-a0495cbc8951"
      },
      "source": [
        "n = int(input().strip())\r\n",
        "if (n%2!=0) or (n%2==0 and n in range(6,21)):\r\n",
        "    print('Weird')\r\n",
        "else:\r\n",
        "    print('Not Weird')     "
      ],
      "execution_count": 1,
      "outputs": [
        {
          "output_type": "stream",
          "text": [
            "3\n",
            "Weird\n"
          ],
          "name": "stdout"
        }
      ]
    }
  ]
}