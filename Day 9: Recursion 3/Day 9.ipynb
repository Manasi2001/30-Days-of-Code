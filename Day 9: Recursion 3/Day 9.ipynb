{
  "nbformat": 4,
  "nbformat_minor": 0,
  "metadata": {
    "colab": {
      "name": "Day 9.ipynb",
      "provenance": []
    },
    "kernelspec": {
      "name": "python3",
      "display_name": "Python 3"
    }
  },
  "cells": [
    {
      "cell_type": "code",
      "metadata": {
        "colab": {
          "base_uri": "https://localhost:8080/"
        },
        "id": "nx3-tke0I1p0",
        "outputId": "f84f6975-afed-4513-b46b-070423532ff0"
      },
      "source": [
        "def factorial(n):\r\n",
        "    s = 1\r\n",
        "    for i in range(1,n+1):\r\n",
        "        s = s*i\r\n",
        "    print(s)\r\n",
        "n = int(input().strip())\r\n",
        "factorial(n)    "
      ],
      "execution_count": 4,
      "outputs": [
        {
          "output_type": "stream",
          "text": [
            "5\n",
            "120\n"
          ],
          "name": "stdout"
        }
      ]
    }
  ]
}