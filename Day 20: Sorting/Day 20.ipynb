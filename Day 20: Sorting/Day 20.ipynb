{
  "nbformat": 4,
  "nbformat_minor": 0,
  "metadata": {
    "colab": {
      "name": "Day 20.ipynb",
      "provenance": []
    },
    "kernelspec": {
      "name": "python3",
      "display_name": "Python 3"
    }
  },
  "cells": [
    {
      "cell_type": "code",
      "metadata": {
        "colab": {
          "base_uri": "https://localhost:8080/"
        },
        "id": "s9QU9oLwKfrS",
        "outputId": "43740994-fd06-49f9-b52f-88336328eaf6"
      },
      "source": [
        "import sys\r\n",
        "n = int(input().strip())\r\n",
        "a = list(map(int, input().strip().split(' ')))\r\n",
        "nofswap = 0\r\n",
        "for i in range(0,n-1):\r\n",
        "    for i in range(0,n-1):\r\n",
        "        if a[i]>a[i+1]:\r\n",
        "            a[i],a[i+1] = a[i+1],a[i]\r\n",
        "            nofswap +=1\r\n",
        "print(\"Array is sorted in\", nofswap, \"swaps.\")\r\n",
        "print(\"First Element:\",a[0])\r\n",
        "print(\"Last Element:\",a[-1])"
      ],
      "execution_count": 3,
      "outputs": [
        {
          "output_type": "stream",
          "text": [
            "4\n",
            "3 1 2 4\n",
            "Array is sorted in 2 swaps.\n",
            "First Element: 1\n",
            "Last Element: 4\n"
          ],
          "name": "stdout"
        }
      ]
    }
  ]
}