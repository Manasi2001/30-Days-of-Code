{
  "nbformat": 4,
  "nbformat_minor": 0,
  "metadata": {
    "colab": {
      "name": "Day 8.ipynb",
      "provenance": []
    },
    "kernelspec": {
      "name": "python3",
      "display_name": "Python 3"
    }
  },
  "cells": [
    {
      "cell_type": "code",
      "metadata": {
        "colab": {
          "base_uri": "https://localhost:8080/"
        },
        "id": "nx3-tke0I1p0",
        "outputId": "9eaf8b07-aa59-4a44-f2bf-ab37bb92ec0c"
      },
      "source": [
        "T = int(input().strip())\r\n",
        "d = dict()\r\n",
        "for i in range(0,T):\r\n",
        "    key, val = (input().strip().split())\r\n",
        "    d[key]=val\r\n",
        "for i in range(0,T):\r\n",
        "    s = input().strip()\r\n",
        "    if s in d:\r\n",
        "        print(s+'='+str(d[s]))\r\n",
        "    else:\r\n",
        "        print('Not found')    "
      ],
      "execution_count": 3,
      "outputs": [
        {
          "output_type": "stream",
          "text": [
            "3\n",
            "sam 453267\n",
            "tom 3219867\n",
            "harry 6509823\n",
            "tom \n",
            "tom=3219867\n",
            "harry\n",
            "harry=6509823\n",
            "mark\n",
            "Not found\n"
          ],
          "name": "stdout"
        }
      ]
    }
  ]
}