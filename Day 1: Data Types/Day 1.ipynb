{
  "nbformat": 4,
  "nbformat_minor": 0,
  "metadata": {
    "colab": {
      "name": "Day 1.ipynb",
      "provenance": []
    },
    "kernelspec": {
      "name": "python3",
      "display_name": "Python 3"
    }
  },
  "cells": [
    {
      "cell_type": "code",
      "metadata": {
        "colab": {
          "base_uri": "https://localhost:8080/"
        },
        "id": "nx3-tke0I1p0",
        "outputId": "e5d859c8-80ce-410f-a645-09f7c0fa9215"
      },
      "source": [
        "i = 4\r\n",
        "d = 4.0\r\n",
        "s = 'HackerRank '\r\n",
        "a = int(input().strip())\r\n",
        "b = float(input().strip())\r\n",
        "c = input()\r\n",
        "print(a+i)\r\n",
        "print(round(b+i,1))\r\n",
        "print(s+c)"
      ],
      "execution_count": 2,
      "outputs": [
        {
          "output_type": "stream",
          "text": [
            "2\n",
            "3.0\n",
            "challenge!\n",
            "6\n",
            "7.0\n",
            "HackerRank challenge!\n"
          ],
          "name": "stdout"
        }
      ]
    }
  ]
}