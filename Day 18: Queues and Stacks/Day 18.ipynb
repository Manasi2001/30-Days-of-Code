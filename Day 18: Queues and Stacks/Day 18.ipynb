{
  "nbformat": 4,
  "nbformat_minor": 0,
  "metadata": {
    "colab": {
      "name": "Day 18.ipynb",
      "provenance": []
    },
    "kernelspec": {
      "name": "python3",
      "display_name": "Python 3"
    }
  },
  "cells": [
    {
      "cell_type": "code",
      "metadata": {
        "colab": {
          "base_uri": "https://localhost:8080/"
        },
        "id": "ByQ6UvQx8DWW",
        "outputId": "37cc446e-6a09-48b6-f280-cb932a1f0b0e"
      },
      "source": [
        "import sys\r\n",
        "\r\n",
        "class Solution:\r\n",
        "    def __init__(self):\r\n",
        "          self.mystack = list()\r\n",
        "          self.myqueue = list()\r\n",
        "          return(None)\r\n",
        "\r\n",
        "    def pushCharacter(self, char):\r\n",
        "          self.mystack.append(char)\r\n",
        "\r\n",
        "    def popCharacter(self):\r\n",
        "          return(self.mystack.pop(-1))\r\n",
        "\r\n",
        "    def enqueueCharacter(self, char):\r\n",
        "          self.myqueue.append(char)\r\n",
        "\r\n",
        "    def dequeueCharacter(self):\r\n",
        "          return(self.myqueue.pop(0))\r\n",
        "\r\n",
        "# read the string s\r\n",
        "s=input()\r\n",
        "#Create the Solution class object\r\n",
        "obj=Solution()   \r\n",
        "\r\n",
        "l=len(s)\r\n",
        "# push/enqueue all the characters of string s to stack\r\n",
        "for i in range(l):\r\n",
        "    obj.pushCharacter(s[i])\r\n",
        "    obj.enqueueCharacter(s[i])\r\n",
        "    \r\n",
        "isPalindrome=True\r\n",
        "'''\r\n",
        "pop the top character from stack\r\n",
        "dequeue the first character from queue\r\n",
        "compare both the characters\r\n",
        "''' \r\n",
        "for i in range(l // 2):\r\n",
        "    if obj.popCharacter()!=obj.dequeueCharacter():\r\n",
        "        isPalindrome=False\r\n",
        "        break\r\n",
        "#finally print whether string s is palindrome or not.\r\n",
        "if isPalindrome:\r\n",
        "    print(\"The word, \"+s+\", is a palindrome.\")\r\n",
        "else:\r\n",
        "    print(\"The word, \"+s+\", is not a palindrome.\")   "
      ],
      "execution_count": 1,
      "outputs": [
        {
          "output_type": "stream",
          "text": [
            "level\n",
            "The word, level, is a palindrome.\n"
          ],
          "name": "stdout"
        }
      ]
    }
  ]
}