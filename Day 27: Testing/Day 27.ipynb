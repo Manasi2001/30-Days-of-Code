{
  "nbformat": 4,
  "nbformat_minor": 0,
  "metadata": {
    "colab": {
      "name": "Day 27.ipynb",
      "provenance": []
    },
    "kernelspec": {
      "name": "python3",
      "display_name": "Python 3"
    }
  },
  "cells": [
    {
      "cell_type": "code",
      "metadata": {
        "colab": {
          "base_uri": "https://localhost:8080/"
        },
        "id": "APh94YwuU-rT",
        "outputId": "84cdef2c-e6b7-496b-db1c-11ca5e3db707"
      },
      "source": [
        "def minimum_index(seq):\r\n",
        "    if len(seq) == 0:\r\n",
        "        raise ValueError(\"Cannot get the minimum value index from an empty sequence\")\r\n",
        "    min_idx = 0\r\n",
        "    for i in range(1, len(seq)):\r\n",
        "        if seq[i] < seq[min_idx]:\r\n",
        "            min_idx = i\r\n",
        "    return min_idx\r\n",
        "class TestDataEmptyArray(object):\r\n",
        "    \r\n",
        "    @staticmethod\r\n",
        "    def get_array():\r\n",
        "        return list()\r\n",
        "    \r\n",
        "class TestDataUniqueValues(object):\r\n",
        "\r\n",
        "    @staticmethod\r\n",
        "    def get_array():\r\n",
        "        return [7,9,1,2,-7,10,22]\r\n",
        "\r\n",
        "    @staticmethod\r\n",
        "    def get_expected_result():\r\n",
        "        return 4\r\n",
        "\r\n",
        "class TestDataExactlyTwoDifferentMinimums(object):\r\n",
        "\r\n",
        "    @staticmethod\r\n",
        "    def get_array():\r\n",
        "        return [7,9,1,2,-7,10,22,-7]\r\n",
        "\r\n",
        "    @staticmethod\r\n",
        "    def get_expected_result():\r\n",
        "        return 4\r\n",
        "        \r\n",
        "\r\n",
        "def TestWithEmptyArray():\r\n",
        "    try:\r\n",
        "        seq = TestDataEmptyArray.get_array()\r\n",
        "        result = minimum_index(seq)\r\n",
        "    except ValueError as e:\r\n",
        "        pass\r\n",
        "    else:\r\n",
        "        assert False\r\n",
        "\r\n",
        "\r\n",
        "def TestWithUniqueValues():\r\n",
        "    seq = TestDataUniqueValues.get_array()\r\n",
        "    assert len(seq) >= 2\r\n",
        "\r\n",
        "    assert len(list(set(seq))) == len(seq)\r\n",
        "\r\n",
        "    expected_result = TestDataUniqueValues.get_expected_result()\r\n",
        "    result = minimum_index(seq)\r\n",
        "    assert result == expected_result\r\n",
        "\r\n",
        "\r\n",
        "def TestiWithExactyTwoDifferentMinimums():\r\n",
        "    seq = TestDataExactlyTwoDifferentMinimums.get_array()\r\n",
        "    assert len(seq) >= 2\r\n",
        "    tmp = sorted(seq)\r\n",
        "    assert tmp[0] == tmp[1] and (len(tmp) == 2 or tmp[1] < tmp[2])\r\n",
        "\r\n",
        "    expected_result = TestDataExactlyTwoDifferentMinimums.get_expected_result()\r\n",
        "    result = minimum_index(seq)\r\n",
        "    assert result == expected_result\r\n",
        "\r\n",
        "TestWithEmptyArray()\r\n",
        "TestWithUniqueValues()\r\n",
        "TestiWithExactyTwoDifferentMinimums()\r\n",
        "print(\"OK\") "
      ],
      "execution_count": 4,
      "outputs": [
        {
          "output_type": "stream",
          "text": [
            "OK\n"
          ],
          "name": "stdout"
        }
      ]
    }
  ]
}