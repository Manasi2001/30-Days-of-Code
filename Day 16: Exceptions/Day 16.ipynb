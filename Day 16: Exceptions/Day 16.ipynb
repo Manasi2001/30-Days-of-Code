{
  "nbformat": 4,
  "nbformat_minor": 0,
  "metadata": {
    "colab": {
      "name": "Day 16.ipynb",
      "provenance": []
    },
    "kernelspec": {
      "name": "python3",
      "display_name": "Python 3"
    }
  },
  "cells": [
    {
      "cell_type": "code",
      "metadata": {
        "colab": {
          "base_uri": "https://localhost:8080/"
        },
        "id": "ByQ6UvQx8DWW",
        "outputId": "7d9f5e52-da01-4547-d26a-5187556c5b19"
      },
      "source": [
        "S = input().strip()\r\n",
        "try:\r\n",
        "    print(int(S))\r\n",
        "except:\r\n",
        "    print('Bad String')        \t  "
      ],
      "execution_count": 1,
      "outputs": [
        {
          "output_type": "stream",
          "text": [
            "MC\n",
            "Bad String\n"
          ],
          "name": "stdout"
        }
      ]
    }
  ]
}