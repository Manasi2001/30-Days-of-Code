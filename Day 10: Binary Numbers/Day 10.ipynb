{
  "nbformat": 4,
  "nbformat_minor": 0,
  "metadata": {
    "colab": {
      "name": "Day 10.ipynb",
      "provenance": []
    },
    "kernelspec": {
      "name": "python3",
      "display_name": "Python 3"
    }
  },
  "cells": [
    {
      "cell_type": "code",
      "metadata": {
        "colab": {
          "base_uri": "https://localhost:8080/"
        },
        "id": "nx3-tke0I1p0",
        "outputId": "2e716d41-6469-47d6-d364-e8029e485f97"
      },
      "source": [
        "n = int(input())\r\n",
        "rmd = []\r\n",
        "while n > 0:\r\n",
        "    rm = n % 2\r\n",
        "    n = n//2\r\n",
        "    rmd.append(rm)\r\n",
        "count,result = 0,0\r\n",
        "for i in range(0,len(rmd)):\r\n",
        "    if rmd[i] == 0:\r\n",
        "        count = 0\r\n",
        "    else:\r\n",
        "        count +=1\r\n",
        "        result = max(result,count)\r\n",
        "print(result)   "
      ],
      "execution_count": 1,
      "outputs": [
        {
          "output_type": "stream",
          "text": [
            "5\n",
            "1\n"
          ],
          "name": "stdout"
        }
      ]
    }
  ]
}