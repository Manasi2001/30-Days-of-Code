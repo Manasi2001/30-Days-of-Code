{
  "nbformat": 4,
  "nbformat_minor": 0,
  "metadata": {
    "colab": {
      "name": "Day 25.ipynb",
      "provenance": []
    },
    "kernelspec": {
      "name": "python3",
      "display_name": "Python 3"
    }
  },
  "cells": [
    {
      "cell_type": "code",
      "metadata": {
        "colab": {
          "base_uri": "https://localhost:8080/"
        },
        "id": "APh94YwuU-rT",
        "outputId": "e7bd6205-3bfc-49af-dde9-253eb4effc69"
      },
      "source": [
        "import math\r\n",
        "from math import sqrt\r\n",
        "T = int(input().strip())\r\n",
        "for t in range(0,T):\r\n",
        "    n = int(input().strip())\r\n",
        "    p = 0\r\n",
        "    if n == 1:\r\n",
        "        print('Not prime')\r\n",
        "    else:    \r\n",
        "        for i in range(1,int(sqrt(n)+1)):\r\n",
        "            if n%i == 0:\r\n",
        "                p+=1\r\n",
        "        if p>=2:\r\n",
        "            print('Not prime') \r\n",
        "        else:\r\n",
        "            print('Prime')    "
      ],
      "execution_count": 2,
      "outputs": [
        {
          "output_type": "stream",
          "text": [
            "3\n",
            "12\n",
            "Not prime\n",
            "5\n",
            "Prime\n",
            "7\n",
            "Prime\n"
          ],
          "name": "stdout"
        }
      ]
    }
  ]
}