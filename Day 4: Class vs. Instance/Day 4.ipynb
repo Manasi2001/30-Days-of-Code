{
  "nbformat": 4,
  "nbformat_minor": 0,
  "metadata": {
    "colab": {
      "name": "Day 4.ipynb",
      "provenance": []
    },
    "kernelspec": {
      "name": "python3",
      "display_name": "Python 3"
    }
  },
  "cells": [
    {
      "cell_type": "code",
      "metadata": {
        "colab": {
          "base_uri": "https://localhost:8080/"
        },
        "id": "nx3-tke0I1p0",
        "outputId": "02ab09cd-fcb9-4b6c-d476-7e115ae527ce"
      },
      "source": [
        "class Person:\r\n",
        "    def __init__(self,initialAge):\r\n",
        "        if initialAge<=0:\r\n",
        "            self.age = 0\r\n",
        "            print('Age is not valid, setting age to 0.')\r\n",
        "        else:\r\n",
        "            self.age = initialAge    \r\n",
        "    def amIOld(self):\r\n",
        "        if self.age<13:\r\n",
        "            print('You are young.')\r\n",
        "        elif self.age in range(13,18):\r\n",
        "            print('You are a teenager.') \r\n",
        "        else:\r\n",
        "            print('You are old.')       \r\n",
        "    def yearPasses(self):\r\n",
        "        self.age = self.age+1\r\n",
        "\r\n",
        "t = int(input())\r\n",
        "for i in range(0, t):\r\n",
        "    age = int(input())         \r\n",
        "    p = Person(age)  \r\n",
        "    p.amIOld()\r\n",
        "    for j in range(0, 3):\r\n",
        "        p.yearPasses()       \r\n",
        "    p.amIOld()\r\n",
        "    print(\"\")    "
      ],
      "execution_count": 3,
      "outputs": [
        {
          "output_type": "stream",
          "text": [
            "4\n",
            "-1\n",
            "Age is not valid, setting age to 0.\n",
            "You are young.\n",
            "You are young.\n",
            "\n",
            "10\n",
            "You are young.\n",
            "You are a teenager.\n",
            "\n",
            "16\n",
            "You are a teenager.\n",
            "You are old.\n",
            "\n",
            "18\n",
            "You are old.\n",
            "You are old.\n",
            "\n"
          ],
          "name": "stdout"
        }
      ]
    }
  ]
}