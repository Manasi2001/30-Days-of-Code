{
  "nbformat": 4,
  "nbformat_minor": 0,
  "metadata": {
    "colab": {
      "name": "Day 29.ipynb",
      "provenance": []
    },
    "kernelspec": {
      "name": "python3",
      "display_name": "Python 3"
    }
  },
  "cells": [
    {
      "cell_type": "code",
      "metadata": {
        "colab": {
          "base_uri": "https://localhost:8080/"
        },
        "id": "prqqZJGgdH6S",
        "outputId": "3dcb3686-785c-45b6-b900-9c2596864362"
      },
      "source": [
        "#!/bin/python3\r\n",
        "\r\n",
        "import math\r\n",
        "import os\r\n",
        "import random\r\n",
        "import re\r\n",
        "import sys\r\n",
        "\r\n",
        "def max_bit(n,k):\r\n",
        "    maximum = 0\r\n",
        "    for i in range(1,n+1):\r\n",
        "        for j in range(1,i):\r\n",
        "            h = i & j\r\n",
        "            if maximum < h < k:\r\n",
        "                maximum = h\r\n",
        "            if maximum == k-1:\r\n",
        "                return maximum\r\n",
        "    return maximum\r\n",
        "\r\n",
        "if __name__ == '__main__':\r\n",
        "    t = int(input())\r\n",
        "\r\n",
        "    for t_itr in range(t):\r\n",
        "        nk = input().split()\r\n",
        "\r\n",
        "        n = int(nk[0])\r\n",
        "\r\n",
        "        k = int(nk[1])\r\n",
        "\r\n",
        "        print(max_bit(n,k))"
      ],
      "execution_count": 6,
      "outputs": [
        {
          "output_type": "stream",
          "text": [
            "2\n",
            "5 2\n",
            "1\n",
            "6 3\n",
            "2\n"
          ],
          "name": "stdout"
        }
      ]
    }
  ]
}