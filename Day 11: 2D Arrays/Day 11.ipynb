{
  "nbformat": 4,
  "nbformat_minor": 0,
  "metadata": {
    "colab": {
      "name": "Day 11.ipynb",
      "provenance": []
    },
    "kernelspec": {
      "name": "python3",
      "display_name": "Python 3"
    }
  },
  "cells": [
    {
      "cell_type": "code",
      "metadata": {
        "colab": {
          "base_uri": "https://localhost:8080/"
        },
        "id": "nx3-tke0I1p0",
        "outputId": "d7fba7af-1478-4d07-df21-104b1d07a0e6"
      },
      "source": [
        "arr = []\r\n",
        "for _ in range(6):\r\n",
        "    arr.append(list(map(int, input().rstrip().split())))\r\n",
        "res = []\r\n",
        "for x in range(0, 4):\r\n",
        "    for y in range(0, 4):\r\n",
        "        s = sum(arr[x][y:y+3]) + arr[x+1][y+1] + sum(arr[x+2][y:y+3])\r\n",
        "        res.append(s)\r\n",
        "print(max(res))"
      ],
      "execution_count": 2,
      "outputs": [
        {
          "output_type": "stream",
          "text": [
            "1 1 1 0 0 0\n",
            "0 1 0 0 0 0 \n",
            "1 1 1 0 0 0 \n",
            "0 0 0 0 0 0\n",
            "0 0 0 0 0 0\n",
            "0 0 0 0 0 0\n",
            "7\n"
          ],
          "name": "stdout"
        }
      ]
    }
  ]
}