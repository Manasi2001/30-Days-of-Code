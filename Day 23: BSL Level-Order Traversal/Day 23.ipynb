{
  "nbformat": 4,
  "nbformat_minor": 0,
  "metadata": {
    "colab": {
      "name": "Day 23.ipynb",
      "provenance": []
    },
    "kernelspec": {
      "name": "python3",
      "display_name": "Python 3"
    }
  },
  "cells": [
    {
      "cell_type": "code",
      "metadata": {
        "colab": {
          "base_uri": "https://localhost:8080/"
        },
        "id": "X4AAcQ2R55q2",
        "outputId": "22238bf2-aa95-46f9-f492-ac918d9fd407"
      },
      "source": [
        "import sys\r\n",
        "\r\n",
        "class Node:\r\n",
        "    def __init__(self,data):\r\n",
        "        self.right=self.left=None\r\n",
        "        self.data = data\r\n",
        "class Solution:\r\n",
        "    def insert(self,root,data):\r\n",
        "        if root==None:\r\n",
        "            return Node(data)\r\n",
        "        else:\r\n",
        "            if data<=root.data:\r\n",
        "                cur=self.insert(root.left,data)\r\n",
        "                root.left=cur\r\n",
        "            else:\r\n",
        "                cur=self.insert(root.right,data)\r\n",
        "                root.right=cur\r\n",
        "        return root\r\n",
        "    def levelOrder(self,root):\r\n",
        "        if root is None:\r\n",
        "            return \r\n",
        "        q = []\r\n",
        "        q.append(root)\r\n",
        "        while len(q) !=0:\r\n",
        "            p = q.pop(0)\r\n",
        "            print(p.data, end=' ')\r\n",
        "            if p.left is not None:\r\n",
        "                q.append(p.left)\r\n",
        "            if p.right is not None:\r\n",
        "                q.append(p.right)\r\n",
        "        return q\r\n",
        "T=int(input())\r\n",
        "myTree=Solution()\r\n",
        "root=None\r\n",
        "for i in range(T):\r\n",
        "    data=int(input())\r\n",
        "    root=myTree.insert(root,data)\r\n",
        "myTree.levelOrder(root)"
      ],
      "execution_count": 3,
      "outputs": [
        {
          "output_type": "stream",
          "text": [
            "6\n",
            "3\n",
            "5\n",
            "4\n",
            "7\n",
            "2\n",
            "1\n",
            "3 2 5 1 4 7 "
          ],
          "name": "stdout"
        },
        {
          "output_type": "execute_result",
          "data": {
            "text/plain": [
              "[]"
            ]
          },
          "metadata": {
            "tags": []
          },
          "execution_count": 3
        }
      ]
    }
  ]
}