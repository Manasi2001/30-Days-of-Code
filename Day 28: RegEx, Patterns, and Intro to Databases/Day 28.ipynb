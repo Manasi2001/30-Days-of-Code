{
  "nbformat": 4,
  "nbformat_minor": 0,
  "metadata": {
    "colab": {
      "name": "Day 28.ipynb",
      "provenance": []
    },
    "kernelspec": {
      "name": "python3",
      "display_name": "Python 3"
    }
  },
  "cells": [
    {
      "cell_type": "code",
      "metadata": {
        "colab": {
          "base_uri": "https://localhost:8080/"
        },
        "id": "prqqZJGgdH6S",
        "outputId": "e498a9d3-16c4-40f3-d7ff-9cad7bc9bf00"
      },
      "source": [
        "#!/bin/python3\r\n",
        "\r\n",
        "import math\r\n",
        "import os\r\n",
        "import random\r\n",
        "import re\r\n",
        "import sys\r\n",
        "\r\n",
        "\r\n",
        "\r\n",
        "if __name__ == '__main__':\r\n",
        "    N = int(input())\r\n",
        "    l = []\r\n",
        "\r\n",
        "    for N_itr in range(N):\r\n",
        "        firstNameEmailID = input().split()\r\n",
        "\r\n",
        "        firstName = firstNameEmailID[0]\r\n",
        "\r\n",
        "        emailID = firstNameEmailID[1]\r\n",
        "    \r\n",
        "        if '@gmail.com' in emailID:\r\n",
        "            l.append(firstName)\r\n",
        "    \r\n",
        "    l = sorted(l)\r\n",
        "    for i in l:\r\n",
        "        print(i)"
      ],
      "execution_count": 5,
      "outputs": [
        {
          "output_type": "stream",
          "text": [
            "6\n",
            "riya riya@gmail.com\n",
            "julia julia@julia.me\n",
            "julia sjulia@gmail.com\n",
            "samantha samantha@gmail.com\n",
            "tanya tanya@gmail.com\n",
            "julia julia@gmail.com\n",
            "julia\n",
            "julia\n",
            "riya\n",
            "samantha\n",
            "tanya\n"
          ],
          "name": "stdout"
        }
      ]
    }
  ]
}