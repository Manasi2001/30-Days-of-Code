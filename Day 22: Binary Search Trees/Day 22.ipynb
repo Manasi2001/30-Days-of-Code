{
  "nbformat": 4,
  "nbformat_minor": 0,
  "metadata": {
    "colab": {
      "name": "Day 22.ipynb",
      "provenance": []
    },
    "kernelspec": {
      "name": "python3",
      "display_name": "Python 3"
    }
  },
  "cells": [
    {
      "cell_type": "code",
      "metadata": {
        "id": "F_bTgmXQC98m",
        "colab": {
          "base_uri": "https://localhost:8080/"
        },
        "outputId": "40b51b8f-8a42-4241-f14f-8352724a755d"
      },
      "source": [
        "class Node:\r\n",
        "    def __init__(self,data):\r\n",
        "        self.right=self.left=None\r\n",
        "        self.data = data\r\n",
        "class Solution:\r\n",
        "    def insert(self,root,data):\r\n",
        "        if root==None:\r\n",
        "            return Node(data)\r\n",
        "        else:\r\n",
        "            if data<=root.data:\r\n",
        "                cur=self.insert(root.left,data)\r\n",
        "                root.left=cur\r\n",
        "            else:\r\n",
        "                cur=self.insert(root.right,data)\r\n",
        "                root.right=cur\r\n",
        "        return root\r\n",
        "\r\n",
        "    def getHeight(self,root):\r\n",
        "        if root == None:\r\n",
        "            return -1\r\n",
        "        return 1 + max(self.getHeight(root.left), self.getHeight(root.right))\r\n",
        "T=int(input())\r\n",
        "myTree=Solution()\r\n",
        "root=None\r\n",
        "for i in range(T):\r\n",
        "    data=int(input())\r\n",
        "    root=myTree.insert(root,data)\r\n",
        "height=myTree.getHeight(root)\r\n",
        "print(height)       "
      ],
      "execution_count": 1,
      "outputs": [
        {
          "output_type": "stream",
          "text": [
            "7\n",
            "3\n",
            "5\n",
            "2\n",
            "1\n",
            "4\n",
            "6\n",
            "7\n",
            "3\n"
          ],
          "name": "stdout"
        }
      ]
    }
  ]
}