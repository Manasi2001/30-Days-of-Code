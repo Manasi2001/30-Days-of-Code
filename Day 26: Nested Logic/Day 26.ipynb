{
  "nbformat": 4,
  "nbformat_minor": 0,
  "metadata": {
    "colab": {
      "name": "Day 26.ipynb",
      "provenance": []
    },
    "kernelspec": {
      "name": "python3",
      "display_name": "Python 3"
    }
  },
  "cells": [
    {
      "cell_type": "code",
      "metadata": {
        "colab": {
          "base_uri": "https://localhost:8080/"
        },
        "id": "APh94YwuU-rT",
        "outputId": "37a8566a-a84b-4e53-98a7-ec7ee4c3fd92"
      },
      "source": [
        "rd, rm, ry = [int(x) for x in input().split(' ')]\r\n",
        "ed, em, ey = [int(x) for x in input().split(' ')]\r\n",
        "if (ry, rm, rd) <= (ey, em, ed):\r\n",
        "    print(0)\r\n",
        "elif (ry, rm) == (ey, em):\r\n",
        "    print(15 * (rd - ed))\r\n",
        "elif ry == ey:\r\n",
        "    print(500 * (rm - em))\r\n",
        "else:\r\n",
        "    print(10000)  "
      ],
      "execution_count": 3,
      "outputs": [
        {
          "output_type": "stream",
          "text": [
            "9 6 2015\n",
            "6 6 2015\n",
            "45\n"
          ],
          "name": "stdout"
        }
      ]
    }
  ]
}