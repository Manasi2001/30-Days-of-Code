{
  "nbformat": 4,
  "nbformat_minor": 0,
  "metadata": {
    "colab": {
      "name": "Day 7.ipynb",
      "provenance": []
    },
    "kernelspec": {
      "name": "python3",
      "display_name": "Python 3"
    }
  },
  "cells": [
    {
      "cell_type": "code",
      "metadata": {
        "colab": {
          "base_uri": "https://localhost:8080/"
        },
        "id": "nx3-tke0I1p0",
        "outputId": "25a346d6-3d88-4b3e-9e4d-6d130abdc03b"
      },
      "source": [
        "n = int(input())\r\n",
        "l = (input().strip().split())\r\n",
        "p = []\r\n",
        "for i in range(1,len(l)+1):\r\n",
        "    p.append(l[-i])\r\n",
        "for i in p:\r\n",
        "    print(i, end=\" \")"
      ],
      "execution_count": 2,
      "outputs": [
        {
          "output_type": "stream",
          "text": [
            "5\n",
            "2354 6574 8746 1265 3647\n",
            "3647 1265 8746 6574 2354 "
          ],
          "name": "stdout"
        }
      ]
    }
  ]
}