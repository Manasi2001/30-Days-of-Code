{
  "nbformat": 4,
  "nbformat_minor": 0,
  "metadata": {
    "colab": {
      "name": "Day 13.ipynb",
      "provenance": []
    },
    "kernelspec": {
      "name": "python3",
      "display_name": "Python 3"
    }
  },
  "cells": [
    {
      "cell_type": "code",
      "metadata": {
        "colab": {
          "base_uri": "https://localhost:8080/"
        },
        "id": "WJUlnLoZ05eS",
        "outputId": "5854f081-23b6-4019-f357-1595c37d5e23"
      },
      "source": [
        "from abc import ABCMeta, abstractmethod\r\n",
        "class Book(object, metaclass=ABCMeta):\r\n",
        "    def __init__(self,title,author):\r\n",
        "        self.title=title\r\n",
        "        self.author=author   \r\n",
        "    @abstractmethod\r\n",
        "    def display(): pass\r\n",
        "\r\n",
        "class MyBook(Book):\r\n",
        "    def __init__(self,title,author,price):\r\n",
        "        self.title=title\r\n",
        "        self.author=author\r\n",
        "        self.price=price\r\n",
        "    def display(self):\r\n",
        "        print(\"Title: \"+ title)\r\n",
        "        print(\"Author: \"+ author)\r\n",
        "        print(\"Price: \"+ str(price))    \r\n",
        "\r\n",
        "title=input()\r\n",
        "author=input()\r\n",
        "price=int(input())\r\n",
        "new_novel=MyBook(title,author,price)\r\n",
        "new_novel.display()"
      ],
      "execution_count": 1,
      "outputs": [
        {
          "output_type": "stream",
          "text": [
            "The Alchemist\n",
            "Paulo Coelho\n",
            "248\n",
            "Title: The Alchemist\n",
            "Author: Paulo Coelho\n",
            "Price: 248\n"
          ],
          "name": "stdout"
        }
      ]
    }
  ]
}