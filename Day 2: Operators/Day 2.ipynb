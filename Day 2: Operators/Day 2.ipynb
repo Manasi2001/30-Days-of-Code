{
  "nbformat": 4,
  "nbformat_minor": 0,
  "metadata": {
    "colab": {
      "name": "Day 2.ipynb",
      "provenance": []
    },
    "kernelspec": {
      "name": "python3",
      "display_name": "Python 3"
    }
  },
  "cells": [
    {
      "cell_type": "code",
      "metadata": {
        "colab": {
          "base_uri": "https://localhost:8080/"
        },
        "id": "nx3-tke0I1p0",
        "outputId": "3cf72847-d912-41e1-ef01-5febf012ff47"
      },
      "source": [
        "a = float(input())\r\n",
        "b = float(input())\r\n",
        "c = float(input())\r\n",
        "d = ((b/100)*a) + ((c/100)*a) + a\r\n",
        "print(round(d))"
      ],
      "execution_count": 1,
      "outputs": [
        {
          "output_type": "stream",
          "text": [
            "10.25\n",
            "17\n",
            "5\n",
            "13\n"
          ],
          "name": "stdout"
        }
      ]
    }
  ]
}