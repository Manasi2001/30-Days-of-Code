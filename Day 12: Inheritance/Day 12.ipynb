{
  "nbformat": 4,
  "nbformat_minor": 0,
  "metadata": {
    "colab": {
      "name": "Day 12.ipynb",
      "provenance": []
    },
    "kernelspec": {
      "name": "python3",
      "display_name": "Python 3"
    }
  },
  "cells": [
    {
      "cell_type": "code",
      "metadata": {
        "colab": {
          "base_uri": "https://localhost:8080/"
        },
        "id": "nx3-tke0I1p0",
        "outputId": "ff277e36-0438-4559-af4c-be403ae42c94"
      },
      "source": [
        "class Person:\r\n",
        "\tdef __init__(self, firstName, lastName, idNumber):\r\n",
        "\t\tself.firstName = firstName\r\n",
        "\t\tself.lastName = lastName\r\n",
        "\t\tself.idNumber = idNumber\r\n",
        "\tdef printPerson(self):\r\n",
        "\t\tprint(\"Name:\", self.lastName + \",\", self.firstName)\r\n",
        "\t\tprint(\"ID:\", self.idNumber)\r\n",
        "\r\n",
        "class Student(Person):\r\n",
        "    def __init__(self, firstName, lastName, idNumber, scores):\r\n",
        "        self.firstName = firstName\r\n",
        "        self.lastName = lastName\r\n",
        "        self.idNumber = idNumber\r\n",
        "        self.scores = scores\r\n",
        "    def calculate(self):\r\n",
        "        avg = sum(self.scores) / len(self.scores)\r\n",
        "        if(avg<=100 and avg>=90):\r\n",
        "            return('O')\r\n",
        "        elif(avg<90 and avg>=80):\r\n",
        "            return('E')\r\n",
        "        elif(avg<80 and avg>=70):\r\n",
        "            return('A')\r\n",
        "        elif(avg<70 and avg>=55):\r\n",
        "            return('P')\r\n",
        "        elif(avg<550 and avg>=40):\r\n",
        "            return('D')\r\n",
        "        else:\r\n",
        "            return('T')\r\n",
        "line = input().split()\r\n",
        "firstName = line[0]\r\n",
        "lastName = line[1]\r\n",
        "idNum = line[2]\r\n",
        "numScores = int(input())\r\n",
        "scores = list( map(int, input().split()) )\r\n",
        "s = Student(firstName, lastName, idNum, scores)\r\n",
        "s.printPerson()\r\n",
        "print(\"Grade:\", s.calculate())"
      ],
      "execution_count": 1,
      "outputs": [
        {
          "output_type": "stream",
          "text": [
            "Heraldo Memelli 8135627\n",
            "2\n",
            "100 80\n",
            "Name: Memelli, Heraldo\n",
            "ID: 8135627\n",
            "Grade: O\n"
          ],
          "name": "stdout"
        }
      ]
    }
  ]
}