{
  "nbformat": 4,
  "nbformat_minor": 0,
  "metadata": {
    "colab": {
      "name": "Day 15.ipynb",
      "provenance": []
    },
    "kernelspec": {
      "name": "python3",
      "display_name": "Python 3"
    }
  },
  "cells": [
    {
      "cell_type": "code",
      "metadata": {
        "colab": {
          "base_uri": "https://localhost:8080/"
        },
        "id": "ByQ6UvQx8DWW",
        "outputId": "3fdfbf74-3efa-43b7-f59e-cabcbcceec5a"
      },
      "source": [
        "class Node:\r\n",
        "    def __init__(self,data):\r\n",
        "        self.data = data\r\n",
        "        self.next = None \r\n",
        "class Solution: \r\n",
        "    def display(self,head):\r\n",
        "        current = head\r\n",
        "        while current:\r\n",
        "            print(current.data,end=' ')\r\n",
        "            current = current.next\r\n",
        "    def insert(self,head,data):\r\n",
        "        if head is None:\r\n",
        "            head = Node(data)\r\n",
        "            self.tail = head\r\n",
        "        else: \r\n",
        "            node = Node(data)\r\n",
        "            self.tail.next = node\r\n",
        "            self.tail = node\r\n",
        "        return head\r\n",
        "\r\n",
        "mylist= Solution()\r\n",
        "T=int(input())\r\n",
        "head=None\r\n",
        "for i in range(T):\r\n",
        "    data=int(input())\r\n",
        "    head=mylist.insert(head,data)    \r\n",
        "mylist.display(head); \t  "
      ],
      "execution_count": 4,
      "outputs": [
        {
          "output_type": "stream",
          "text": [
            "4\n",
            "3\n",
            "2\n",
            "2\n",
            "1\n",
            "3 2 2 1 "
          ],
          "name": "stdout"
        }
      ]
    }
  ]
}