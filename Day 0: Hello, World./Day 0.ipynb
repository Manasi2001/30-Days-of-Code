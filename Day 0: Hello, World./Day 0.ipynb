{
  "nbformat": 4,
  "nbformat_minor": 0,
  "metadata": {
    "colab": {
      "name": "Day 0.ipynb",
      "provenance": []
    },
    "kernelspec": {
      "name": "python3",
      "display_name": "Python 3"
    }
  },
  "cells": [
    {
      "cell_type": "code",
      "metadata": {
        "colab": {
          "base_uri": "https://localhost:8080/"
        },
        "id": "nx3-tke0I1p0",
        "outputId": "56153438-634f-4e54-ecd6-24d8cbcae758"
      },
      "source": [
        "input_string = input()\r\n",
        "print('Hello, World.')\r\n",
        "print(input_string)"
      ],
      "execution_count": 1,
      "outputs": [
        {
          "output_type": "stream",
          "text": [
            "What's up?\n",
            "Hello, World.\n",
            "What's up?\n"
          ],
          "name": "stdout"
        }
      ]
    }
  ]
}
