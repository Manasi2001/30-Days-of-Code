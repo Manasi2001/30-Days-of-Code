{
  "nbformat": 4,
  "nbformat_minor": 0,
  "metadata": {
    "colab": {
      "name": "Day 24.ipynb",
      "provenance": []
    },
    "kernelspec": {
      "name": "python3",
      "display_name": "Python 3"
    }
  },
  "cells": [
    {
      "cell_type": "code",
      "metadata": {
        "id": "NNom8kCONTcC",
        "colab": {
          "base_uri": "https://localhost:8080/"
        },
        "outputId": "ece61bca-074d-48e2-aba0-71662245a210"
      },
      "source": [
        "class Node:\r\n",
        "    def __init__(self,data):\r\n",
        "        self.data = data\r\n",
        "        self.next = None \r\n",
        "class Solution: \r\n",
        "    def insert(self,head,data):\r\n",
        "            p = Node(data)           \r\n",
        "            if head==None:\r\n",
        "                head=p\r\n",
        "            elif head.next==None:\r\n",
        "                head.next=p\r\n",
        "            else:\r\n",
        "                start=head\r\n",
        "                while(start.next!=None):\r\n",
        "                    start=start.next\r\n",
        "                start.next=p\r\n",
        "            return head  \r\n",
        "    def display(self,head):\r\n",
        "        current = head\r\n",
        "        while current:\r\n",
        "            print(current.data,end=' ')\r\n",
        "            current = current.next\r\n",
        "    def removeDuplicates(self,head):\r\n",
        "        qu = []\r\n",
        "        if head == None:\r\n",
        "            return \r\n",
        "        p = head\r\n",
        "        qu.append(p.data)\r\n",
        "        p = p.next\r\n",
        "        while p is not None:\r\n",
        "            qu.append(p.data)\r\n",
        "            p = p.next\r\n",
        "        qu = list(dict.fromkeys(qu))\r\n",
        "        for item in qu:\r\n",
        "            print(item,end=' ')\r\n",
        "mylist= Solution()\r\n",
        "T=int(input())\r\n",
        "head=None\r\n",
        "for i in range(T):\r\n",
        "    data=int(input())\r\n",
        "    head=mylist.insert(head,data)    \r\n",
        "head=mylist.removeDuplicates(head)\r\n",
        "mylist.display(head); "
      ],
      "execution_count": 1,
      "outputs": [
        {
          "output_type": "stream",
          "text": [
            "6\n",
            "1\n",
            "2\n",
            "2\n",
            "3\n",
            "3\n",
            "4\n",
            "1 2 3 4 "
          ],
          "name": "stdout"
        }
      ]
    }
  ]
}