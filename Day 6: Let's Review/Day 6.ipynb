{
  "nbformat": 4,
  "nbformat_minor": 0,
  "metadata": {
    "colab": {
      "name": "Day 6.ipynb",
      "provenance": []
    },
    "kernelspec": {
      "name": "python3",
      "display_name": "Python 3"
    }
  },
  "cells": [
    {
      "cell_type": "code",
      "metadata": {
        "colab": {
          "base_uri": "https://localhost:8080/"
        },
        "id": "nx3-tke0I1p0",
        "outputId": "2c3078a0-9609-4458-9cdb-979d09ad201a"
      },
      "source": [
        "T = int(input().strip())\r\n",
        "for t in range(0,T):\r\n",
        "    s = input()\r\n",
        "    print(s[0:len(s):2], s[1:len(s):2])"
      ],
      "execution_count": 1,
      "outputs": [
        {
          "output_type": "stream",
          "text": [
            "2\n",
            "Manasi\n",
            "Mns aai\n",
            "Chhibber\n",
            "Chbe hibr\n"
          ],
          "name": "stdout"
        }
      ]
    }
  ]
}