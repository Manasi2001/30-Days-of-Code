{
  "nbformat": 4,
  "nbformat_minor": 0,
  "metadata": {
    "colab": {
      "name": "Day 17.ipynb",
      "provenance": []
    },
    "kernelspec": {
      "name": "python3",
      "display_name": "Python 3"
    }
  },
  "cells": [
    {
      "cell_type": "code",
      "metadata": {
        "colab": {
          "base_uri": "https://localhost:8080/"
        },
        "id": "ByQ6UvQx8DWW",
        "outputId": "8ef0c8bf-9a1f-46ce-db81-585e3c33af96"
      },
      "source": [
        "class Calculator:\r\n",
        "    def power(self,n,p):\r\n",
        "        if n>=0 and p>=0:\r\n",
        "            return(n**p)\r\n",
        "        else:\r\n",
        "            return('n and p should be non-negative')\r\n",
        "myCalculator=Calculator()\r\n",
        "T=int(input())\r\n",
        "for i in range(T):\r\n",
        "    n,p = map(int, input().split())\r\n",
        "    try:\r\n",
        "        ans=myCalculator.power(n,p)\r\n",
        "        print(ans)\r\n",
        "    except Exception as e:\r\n",
        "        print(e)   "
      ],
      "execution_count": 1,
      "outputs": [
        {
          "output_type": "stream",
          "text": [
            "4\n",
            "3 5\n",
            "243\n",
            "2 4\n",
            "16\n",
            "-1 -2\n",
            "n and p should be non-negative\n",
            "-1 3\n",
            "n and p should be non-negative\n"
          ],
          "name": "stdout"
        }
      ]
    }
  ]
}