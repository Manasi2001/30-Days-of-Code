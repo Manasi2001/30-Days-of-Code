{
  "nbformat": 4,
  "nbformat_minor": 0,
  "metadata": {
    "colab": {
      "name": "Day 19.ipynb",
      "provenance": []
    },
    "kernelspec": {
      "name": "python3",
      "display_name": "Python 3"
    }
  },
  "cells": [
    {
      "cell_type": "code",
      "metadata": {
        "colab": {
          "base_uri": "https://localhost:8080/"
        },
        "id": "s9QU9oLwKfrS",
        "outputId": "89b9e7a4-b3e3-408c-cc4e-5a57e75acb93"
      },
      "source": [
        "class AdvancedArithmetic(object):\r\n",
        "    def divisorSum(n):\r\n",
        "        raise NotImplementedError\r\n",
        "\r\n",
        "class Calculator(AdvancedArithmetic):\r\n",
        "    def divisorSum(self, n):\r\n",
        "        temp = []\r\n",
        "        for i in range(1, n+1):\r\n",
        "            if n%i == 0:\r\n",
        "                temp.append(i)\r\n",
        "        return sum(temp)\r\n",
        "\r\n",
        "\r\n",
        "n = int(input())\r\n",
        "my_calculator = Calculator()\r\n",
        "s = my_calculator.divisorSum(n)\r\n",
        "print(\"I implemented: \" + type(my_calculator).__bases__[0].__name__)\r\n",
        "print(s)"
      ],
      "execution_count": 1,
      "outputs": [
        {
          "output_type": "stream",
          "text": [
            "6\n",
            "I implemented: AdvancedArithmetic\n",
            "12\n"
          ],
          "name": "stdout"
        }
      ]
    }
  ]
}